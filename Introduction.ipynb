{
 "cells": [
  {
   "cell_type": "markdown",
   "metadata": {},
   "source": [
    "## Introduction \n",
    "According to WHO, Cardiovascular Diseases(CVDs) are the leading cause of death globally, taking an estimated 17.9 million lives each year. If we were able to predict heart diseases in individuals using commonly available measurements, we should be able to help in early detection of heart disease and subsequently prevent deaths. Using the dataset available in xxx, we train our model to be able to classify whether an individual has heart disease or no(with n accuracy) based on variables such as: "
   ]
  },
  {
   "cell_type": "code",
   "execution_count": null,
   "metadata": {},
   "outputs": [],
   "source": []
  }
 ],
 "metadata": {
  "kernelspec": {
   "display_name": "R",
   "language": "R",
   "name": "ir"
  },
  "language_info": {
   "codemirror_mode": "r",
   "file_extension": ".r",
   "mimetype": "text/x-r-source",
   "name": "R",
   "pygments_lexer": "r",
   "version": "4.0.0"
  }
 },
 "nbformat": 4,
 "nbformat_minor": 4
}
