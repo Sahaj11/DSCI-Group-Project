{
 "cells": [
  {
   "cell_type": "markdown",
   "metadata": {},
   "source": [
    "# Heart Disease Prediction "
   ]
  },
  {
   "cell_type": "markdown",
   "metadata": {},
   "source": [
    "## Introduction \n",
    "According to World Health Organisaton, Cardiovascular diseases(CVDs) are the leading cause of death globally. \n",
    "bcdniucnudcniduncunc djncddicn \n"
   ]
  },
  {
   "cell_type": "markdown",
   "metadata": {},
   "source": [
    "## Loading the tidyverse library and data from the web"
   ]
  },
  {
   "cell_type": "code",
   "execution_count": 10,
   "metadata": {},
   "outputs": [],
   "source": [
    "library (tidyverse)"
   ]
  },
  {
   "cell_type": "code",
   "execution_count": 11,
   "metadata": {},
   "outputs": [
    {
     "name": "stderr",
     "output_type": "stream",
     "text": [
      "Parsed with column specification:\n",
      "cols(\n",
      "  Age = \u001b[32mcol_double()\u001b[39m,\n",
      "  Sex = \u001b[31mcol_character()\u001b[39m,\n",
      "  ChestPainType = \u001b[31mcol_character()\u001b[39m,\n",
      "  RestingBP = \u001b[32mcol_double()\u001b[39m,\n",
      "  Cholesterol = \u001b[32mcol_double()\u001b[39m,\n",
      "  FastingBS = \u001b[32mcol_double()\u001b[39m,\n",
      "  RestingECG = \u001b[31mcol_character()\u001b[39m,\n",
      "  MaxHR = \u001b[32mcol_double()\u001b[39m,\n",
      "  ExerciseAngina = \u001b[31mcol_character()\u001b[39m,\n",
      "  Oldpeak = \u001b[32mcol_double()\u001b[39m,\n",
      "  ST_Slope = \u001b[31mcol_character()\u001b[39m,\n",
      "  HeartDisease = \u001b[32mcol_double()\u001b[39m\n",
      ")\n",
      "\n"
     ]
    }
   ],
   "source": [
    "URL <- \"https://docs.google.com/spreadsheets/d/e/2PACX-1vQUbX_oefnm2ivKFHUdHYQBNqPk16aIH-LZeB5dEWCMhmFWPMStumhfVeRkijYcMw/pub?output=csv\"\n",
    "heart_data <- read_csv (URL)"
   ]
  },
  {
   "cell_type": "code",
   "execution_count": null,
   "metadata": {},
   "outputs": [],
   "source": []
  }
 ],
 "metadata": {
  "kernelspec": {
   "display_name": "R",
   "language": "R",
   "name": "ir"
  },
  "language_info": {
   "codemirror_mode": "r",
   "file_extension": ".r",
   "mimetype": "text/x-r-source",
   "name": "R",
   "pygments_lexer": "r",
   "version": "4.0.0"
  }
 },
 "nbformat": 4,
 "nbformat_minor": 4
}
